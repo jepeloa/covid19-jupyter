{
 "cells": [
  {
   "cell_type": "code",
   "execution_count": null,
   "metadata": {},
   "outputs": [],
   "source": []
  },
  {
   "cell_type": "code",
   "execution_count": 135,
   "metadata": {},
   "outputs": [
    {
     "name": "stderr",
     "output_type": "stream",
     "text": [
      "DEBUG:root:File already exists\n",
      "DEBUG:root:Force download new data\n",
      "DEBUG:urllib3.connectionpool:Starting new HTTPS connection (1): raw.githubusercontent.com:443\n",
      "DEBUG:urllib3.connectionpool:https://raw.githubusercontent.com:443 \"GET /CSSEGISandData/COVID-19/master/csse_covid_19_data/csse_covid_19_time_series/time_series_19-covid-Confirmed.csv HTTP/1.1\" 200 19840\n",
      "DEBUG:urllib3.connectionpool:Starting new HTTPS connection (1): raw.githubusercontent.com:443\n",
      "DEBUG:urllib3.connectionpool:https://raw.githubusercontent.com:443 \"GET /CSSEGISandData/COVID-19/master/csse_covid_19_data/csse_covid_19_time_series/time_series_19-covid-Deaths.csv HTTP/1.1\" 200 12570\n",
      "DEBUG:urllib3.connectionpool:Starting new HTTPS connection (1): raw.githubusercontent.com:443\n",
      "DEBUG:urllib3.connectionpool:https://raw.githubusercontent.com:443 \"GET /CSSEGISandData/COVID-19/master/csse_covid_19_data/csse_covid_19_time_series/time_series_19-covid-Recovered.csv HTTP/1.1\" 200 14849\n"
     ]
    }
   ],
   "source": [
    "from covid.api import CovId19Data\n",
    "import pandas as pd\n",
    "api = CovId19Data(force=True)\n",
    "from fbprophet import Prophet\n",
    "from matplotlib import pyplot as plt\n",
    "res = api.get_history_by_country('Argentina')\n",
    "from pivottablejs import pivot_ui\n",
    "from plotly.offline import download_plotlyjs, init_notebook_mode, plot, iplot"
   ]
  },
  {
   "cell_type": "code",
   "execution_count": 149,
   "metadata": {},
   "outputs": [],
   "source": [
    "#api.__dict__\n"
   ]
  },
  {
   "cell_type": "code",
   "execution_count": 150,
   "metadata": {},
   "outputs": [],
   "source": [
    "covid19_recovered = pd.read_csv(\"~/.local/lib/python3.6/site-packages/covid/data/time_series_19-covid-Recovered.csv\")\n",
    "covid19_death = pd.read_csv(\"~/.local/lib/python3.6/site-packages/covid/data/time_series_19-covid-Deaths.csv\")\n",
    "covid19_infected = pd.read_csv(\"~/.local/lib/python3.6/site-packages/covid/data/time_series_19-covid-Confirmed.csv\")"
   ]
  },
  {
   "cell_type": "code",
   "execution_count": 151,
   "metadata": {},
   "outputs": [],
   "source": [
    "covid19_infected=covid19_infected.melt(id_vars=[\"Province/State\", \"Country/Region\", \"Lat\", \"Long\"], \n",
    "        var_name=\"Date\", \n",
    "        value_name=\"Value\")\n",
    "covid19_infected['state'] = \"infected\"\n",
    "\n",
    "covid19_death=covid19_death.melt(id_vars=[\"Province/State\", \"Country/Region\", \"Lat\", \"Long\"], \n",
    "        var_name=\"Date\", \n",
    "        value_name=\"Value\")\n",
    "covid19_death['state'] = \"death\"\n",
    "covid19_recovered=covid19_recovered.melt(id_vars=[\"Province/State\", \"Country/Region\", \"Lat\", \"Long\"], \n",
    "        var_name=\"Date\", \n",
    "        value_name=\"Value\")\n",
    "covid19_recovered['state'] = \"recovered\""
   ]
  },
  {
   "cell_type": "code",
   "execution_count": 152,
   "metadata": {},
   "outputs": [
    {
     "data": {
      "text/html": [
       "<div>\n",
       "<style scoped>\n",
       "    .dataframe tbody tr th:only-of-type {\n",
       "        vertical-align: middle;\n",
       "    }\n",
       "\n",
       "    .dataframe tbody tr th {\n",
       "        vertical-align: top;\n",
       "    }\n",
       "\n",
       "    .dataframe thead th {\n",
       "        text-align: right;\n",
       "    }\n",
       "</style>\n",
       "<table border=\"1\" class=\"dataframe\">\n",
       "  <thead>\n",
       "    <tr style=\"text-align: right;\">\n",
       "      <th></th>\n",
       "      <th>Province/State</th>\n",
       "      <th>Country/Region</th>\n",
       "      <th>Lat</th>\n",
       "      <th>Long</th>\n",
       "      <th>Date</th>\n",
       "      <th>Value</th>\n",
       "      <th>state</th>\n",
       "    </tr>\n",
       "  </thead>\n",
       "  <tbody>\n",
       "    <tr>\n",
       "      <th>0</th>\n",
       "      <td>NaN</td>\n",
       "      <td>Thailand</td>\n",
       "      <td>15.0000</td>\n",
       "      <td>101.0000</td>\n",
       "      <td>1/22/20</td>\n",
       "      <td>0.0</td>\n",
       "      <td>recovered</td>\n",
       "    </tr>\n",
       "    <tr>\n",
       "      <th>1</th>\n",
       "      <td>NaN</td>\n",
       "      <td>Japan</td>\n",
       "      <td>36.0000</td>\n",
       "      <td>138.0000</td>\n",
       "      <td>1/22/20</td>\n",
       "      <td>0.0</td>\n",
       "      <td>recovered</td>\n",
       "    </tr>\n",
       "    <tr>\n",
       "      <th>2</th>\n",
       "      <td>NaN</td>\n",
       "      <td>Singapore</td>\n",
       "      <td>1.2833</td>\n",
       "      <td>103.8333</td>\n",
       "      <td>1/22/20</td>\n",
       "      <td>0.0</td>\n",
       "      <td>recovered</td>\n",
       "    </tr>\n",
       "    <tr>\n",
       "      <th>3</th>\n",
       "      <td>NaN</td>\n",
       "      <td>Nepal</td>\n",
       "      <td>28.1667</td>\n",
       "      <td>84.2500</td>\n",
       "      <td>1/22/20</td>\n",
       "      <td>0.0</td>\n",
       "      <td>recovered</td>\n",
       "    </tr>\n",
       "    <tr>\n",
       "      <th>4</th>\n",
       "      <td>NaN</td>\n",
       "      <td>Malaysia</td>\n",
       "      <td>2.5000</td>\n",
       "      <td>112.5000</td>\n",
       "      <td>1/22/20</td>\n",
       "      <td>0.0</td>\n",
       "      <td>recovered</td>\n",
       "    </tr>\n",
       "  </tbody>\n",
       "</table>\n",
       "</div>"
      ],
      "text/plain": [
       "  Province/State Country/Region      Lat      Long     Date  Value      state\n",
       "0            NaN       Thailand  15.0000  101.0000  1/22/20    0.0  recovered\n",
       "1            NaN          Japan  36.0000  138.0000  1/22/20    0.0  recovered\n",
       "2            NaN      Singapore   1.2833  103.8333  1/22/20    0.0  recovered\n",
       "3            NaN          Nepal  28.1667   84.2500  1/22/20    0.0  recovered\n",
       "4            NaN       Malaysia   2.5000  112.5000  1/22/20    0.0  recovered"
      ]
     },
     "execution_count": 152,
     "metadata": {},
     "output_type": "execute_result"
    }
   ],
   "source": [
    "covid19_recovered.head()"
   ]
  },
  {
   "cell_type": "code",
   "execution_count": 153,
   "metadata": {},
   "outputs": [],
   "source": [
    "covid19=pd.concat([covid19_infected, covid19_death, covid19_recovered], ignore_index=True)"
   ]
  },
  {
   "cell_type": "code",
   "execution_count": 154,
   "metadata": {},
   "outputs": [
    {
     "data": {
      "text/html": [
       "<div>\n",
       "<style scoped>\n",
       "    .dataframe tbody tr th:only-of-type {\n",
       "        vertical-align: middle;\n",
       "    }\n",
       "\n",
       "    .dataframe tbody tr th {\n",
       "        vertical-align: top;\n",
       "    }\n",
       "\n",
       "    .dataframe thead th {\n",
       "        text-align: right;\n",
       "    }\n",
       "</style>\n",
       "<table border=\"1\" class=\"dataframe\">\n",
       "  <thead>\n",
       "    <tr style=\"text-align: right;\">\n",
       "      <th></th>\n",
       "      <th>Province/State</th>\n",
       "      <th>Country/Region</th>\n",
       "      <th>Lat</th>\n",
       "      <th>Long</th>\n",
       "      <th>Date</th>\n",
       "      <th>Value</th>\n",
       "      <th>state</th>\n",
       "    </tr>\n",
       "  </thead>\n",
       "  <tbody>\n",
       "    <tr>\n",
       "      <th>0</th>\n",
       "      <td>NaN</td>\n",
       "      <td>Thailand</td>\n",
       "      <td>15.0000</td>\n",
       "      <td>101.0000</td>\n",
       "      <td>2020-01-22</td>\n",
       "      <td>2.0</td>\n",
       "      <td>infected</td>\n",
       "    </tr>\n",
       "    <tr>\n",
       "      <th>1</th>\n",
       "      <td>NaN</td>\n",
       "      <td>Japan</td>\n",
       "      <td>36.0000</td>\n",
       "      <td>138.0000</td>\n",
       "      <td>2020-01-22</td>\n",
       "      <td>2.0</td>\n",
       "      <td>infected</td>\n",
       "    </tr>\n",
       "    <tr>\n",
       "      <th>2</th>\n",
       "      <td>NaN</td>\n",
       "      <td>Singapore</td>\n",
       "      <td>1.2833</td>\n",
       "      <td>103.8333</td>\n",
       "      <td>2020-01-22</td>\n",
       "      <td>0.0</td>\n",
       "      <td>infected</td>\n",
       "    </tr>\n",
       "    <tr>\n",
       "      <th>3</th>\n",
       "      <td>NaN</td>\n",
       "      <td>Nepal</td>\n",
       "      <td>28.1667</td>\n",
       "      <td>84.2500</td>\n",
       "      <td>2020-01-22</td>\n",
       "      <td>0.0</td>\n",
       "      <td>infected</td>\n",
       "    </tr>\n",
       "    <tr>\n",
       "      <th>4</th>\n",
       "      <td>NaN</td>\n",
       "      <td>Malaysia</td>\n",
       "      <td>2.5000</td>\n",
       "      <td>112.5000</td>\n",
       "      <td>2020-01-22</td>\n",
       "      <td>0.0</td>\n",
       "      <td>infected</td>\n",
       "    </tr>\n",
       "  </tbody>\n",
       "</table>\n",
       "</div>"
      ],
      "text/plain": [
       "  Province/State Country/Region      Lat      Long       Date  Value     state\n",
       "0            NaN       Thailand  15.0000  101.0000 2020-01-22    2.0  infected\n",
       "1            NaN          Japan  36.0000  138.0000 2020-01-22    2.0  infected\n",
       "2            NaN      Singapore   1.2833  103.8333 2020-01-22    0.0  infected\n",
       "3            NaN          Nepal  28.1667   84.2500 2020-01-22    0.0  infected\n",
       "4            NaN       Malaysia   2.5000  112.5000 2020-01-22    0.0  infected"
      ]
     },
     "execution_count": 154,
     "metadata": {},
     "output_type": "execute_result"
    }
   ],
   "source": [
    "covid19['Date'] = pd.to_datetime(covid19['Date'])\n",
    "covid19.head()"
   ]
  },
  {
   "cell_type": "code",
   "execution_count": 155,
   "metadata": {},
   "outputs": [],
   "source": [
    "covid19_China=covid19[(covid19['Country/Region']=='China') & (covid19['state']=='infected')] #here you can select Country and state (infected, death or recovered)\n",
    "covid19_Italia=covid19[(covid19['Country/Region']=='Italy') & (covid19['state']=='infected')]\n",
    "covid19_España=covid19[(covid19['Country/Region']=='Spain') & (covid19['state']=='infected')]\n",
    "covid19_Argentina=covid19[(covid19['Country/Region']=='Argentina') & (covid19['state']=='infected')]"
   ]
  },
  {
   "cell_type": "code",
   "execution_count": null,
   "metadata": {},
   "outputs": [],
   "source": []
  },
  {
   "cell_type": "code",
   "execution_count": 167,
   "metadata": {},
   "outputs": [
    {
     "data": {
      "text/plain": [
       "'covid19_Infected.html'"
      ]
     },
     "execution_count": 167,
     "metadata": {},
     "output_type": "execute_result"
    }
   ],
   "source": [
    "import plotly.graph_objects as go\n",
    "\n",
    "# Create random data with numpy\n",
    "import numpy as np\n",
    "fig = go.Figure()\n",
    "# Add traces\n",
    "x0=covid19_China['Date']\n",
    "y0=covid19_China['Value']\n",
    "x1=covid19_Italia['Date']\n",
    "y1=covid19_Italia['Value']\n",
    "x2=covid19_España['Date']\n",
    "y2=covid19_España['Value']\n",
    "x3=covid19_Argentina['Date']\n",
    "y3=covid19_Argentina['Value']\n",
    "fig.add_trace(go.Scatter(x=x0, y=y0,\n",
    "                    mode='markers',\n",
    "                    name='China'))\n",
    "fig.add_trace(go.Scatter(x=x1, y=y1,\n",
    "                    mode='lines+markers',\n",
    "                    name='Italia'))\n",
    "fig.add_trace(go.Scatter(x=x2, y=y2,\n",
    "                    mode='lines+markers',\n",
    "                    name='España'))\n",
    "fig.add_trace(go.Scatter(x=x3, y=y3,\n",
    "                    mode='lines+markers',\n",
    "                    name='Argetina'))\n",
    "fig.update_layout(\n",
    "    title=\"Timeline of the cases\",\n",
    "    xaxis_title=\"Date\",\n",
    "    yaxis_title=\"Infected\",\n",
    "    font=dict(\n",
    "        family=\"Courier New, monospace\",\n",
    "        size=18,\n",
    "        color=\"#7f7f7f\"\n",
    "    )\n",
    ")\n",
    "\n",
    "plot(fig,filename='covid19_Infected.html')\n",
    "#fig.show()\n"
   ]
  },
  {
   "cell_type": "code",
   "execution_count": 156,
   "metadata": {},
   "outputs": [
    {
     "data": {
      "text/plain": [
       "'covid19_infected_overlaped.html'"
      ]
     },
     "execution_count": 156,
     "metadata": {},
     "output_type": "execute_result"
    }
   ],
   "source": [
    "import plotly.graph_objects as go\n",
    "\n",
    "# Create random data with numpy\n",
    "import numpy as np\n",
    "fig = go.Figure()\n",
    "# Add traces\n",
    "x0=covid19_China['Date']\n",
    "y0=covid19_China['Value']\n",
    "x1=covid19_Italia['Date']+pd.Timedelta(days=-36)\n",
    "y1=covid19_Italia['Value']\n",
    "x2=covid19_España['Date']+pd.Timedelta(days=-43)\n",
    "y2=covid19_España['Value']\n",
    "x3=covid19_Argentina['Date']+pd.Timedelta(days=-60)\n",
    "y3=covid19_Argentina['Value']\n",
    "fig.add_trace(go.Scatter(x=x0, y=y0,\n",
    "                    mode='markers',\n",
    "                    name='China'))\n",
    "fig.add_trace(go.Scatter(x=x1, y=y1,\n",
    "                    mode='lines+markers',\n",
    "                    name='Italia'))\n",
    "fig.add_trace(go.Scatter(x=x2, y=y2,\n",
    "                    mode='lines+markers',\n",
    "                    name='España'))\n",
    "fig.add_trace(go.Scatter(x=x3, y=y3,\n",
    "                    mode='lines+markers',\n",
    "                    name='Argetina'))\n",
    "fig.update_layout(\n",
    "    title=\"Overlaped cases\",\n",
    "    xaxis_title=\"Date, based on chine first case\",\n",
    "    yaxis_title=\"infeted\",\n",
    "    font=dict(\n",
    "        family=\"Courier New, monospace\",\n",
    "        size=18,\n",
    "        color=\"#7f7f7f\"\n",
    "    )\n",
    ")\n",
    "\n",
    "plot(fig,filename='covid19_infected_overlaped.html')\n",
    "#fig.show()\n"
   ]
  },
  {
   "cell_type": "code",
   "execution_count": null,
   "metadata": {},
   "outputs": [],
   "source": []
  },
  {
   "cell_type": "raw",
   "metadata": {},
   "source": []
  },
  {
   "cell_type": "code",
   "execution_count": null,
   "metadata": {},
   "outputs": [],
   "source": []
  },
  {
   "cell_type": "code",
   "execution_count": null,
   "metadata": {},
   "outputs": [],
   "source": []
  },
  {
   "cell_type": "code",
   "execution_count": null,
   "metadata": {},
   "outputs": [],
   "source": []
  },
  {
   "cell_type": "code",
   "execution_count": null,
   "metadata": {},
   "outputs": [],
   "source": []
  },
  {
   "cell_type": "code",
   "execution_count": null,
   "metadata": {},
   "outputs": [],
   "source": []
  },
  {
   "cell_type": "code",
   "execution_count": null,
   "metadata": {},
   "outputs": [],
   "source": []
  },
  {
   "cell_type": "code",
   "execution_count": null,
   "metadata": {},
   "outputs": [],
   "source": []
  },
  {
   "cell_type": "code",
   "execution_count": null,
   "metadata": {},
   "outputs": [],
   "source": []
  }
 ],
 "metadata": {
  "kernelspec": {
   "display_name": "Python 3",
   "language": "python",
   "name": "python3"
  },
  "language_info": {
   "codemirror_mode": {
    "name": "ipython",
    "version": 3
   },
   "file_extension": ".py",
   "mimetype": "text/x-python",
   "name": "python",
   "nbconvert_exporter": "python",
   "pygments_lexer": "ipython3",
   "version": "3.6.9"
  }
 },
 "nbformat": 4,
 "nbformat_minor": 2
}
